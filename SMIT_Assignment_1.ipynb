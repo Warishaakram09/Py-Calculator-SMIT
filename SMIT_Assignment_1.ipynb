{
  "nbformat": 4,
  "nbformat_minor": 0,
  "metadata": {
    "colab": {
      "provenance": []
    },
    "kernelspec": {
      "name": "python3",
      "display_name": "Python 3"
    },
    "language_info": {
      "name": "python"
    }
  },
  "cells": [
    {
      "cell_type": "code",
      "execution_count": 4,
      "metadata": {
        "colab": {
          "base_uri": "https://localhost:8080/"
        },
        "id": "rEZy1234L5uu",
        "outputId": "ccb31288-5139-4ae4-ada5-ee8f2746cbd4"
      },
      "outputs": [
        {
          "output_type": "stream",
          "name": "stdout",
          "text": [
            "Enter first number:2\n",
            "Enter second number:3\n",
            "Enter Which operation would you like to perform?\n",
            "1. Addition (+)\n",
            "2. Subtraction (-)\n",
            "3. Multiplication (*)\n",
            "4. Division (/)\n",
            "Enter choice(1/2/3/4):2\n",
            "2 - 3 = -1\n"
          ]
        }
      ],
      "source": [
        "#Create a calculator using conditions, You will take two numbers as input from the user, then ask the user for their choice. Depending on user's choice, you have to perform the operation and print the result.\n",
        "\n",
        "#user se input number lena\n",
        "num1 = int(input (\"Enter first number:\"))\n",
        "num2 = int(input (\"Enter second number:\"))\n",
        "\n",
        "#yahan hum user se poch rhe hain ke usko kia kam krwana h or options pint krwa rhe hn\n",
        "print (\"Enter Which operation would you like to perform?\")\n",
        "print(\"1. Addition (+)\")\n",
        "print(\"2. Subtraction (-)\")\n",
        "print(\"3. Multiplication (*)\")\n",
        "print(\"4. Division (/)\")\n",
        "\n",
        "#yaha user se choice ka poch rhe hn\n",
        "choice = input(\"Enter choice(1/2/3/4):\")\n",
        "\n",
        "\n",
        "#condition lgani h ke agr user 1 option select kre to add  krdo\n",
        "if choice == '1':\n",
        "    print(num1, \"+\", num2, \"=\", (num1 + num2))\n",
        "\n",
        "elif choice == '2':\n",
        "    print(num1, \"-\", num2, \"=\", (num1 - num2))\n",
        "\n",
        "elif choice == '3' :\n",
        "   print(num1, \"*\", (num1 * num2))\n",
        "\n",
        "elif choice == '4':\n",
        "    # zero se no. devide nhi krwa skty\n",
        "    if num2 != 0:\n",
        "        result = num1 / num2\n",
        "        print(\"The result of division is:\", result)\n",
        "    else:\n",
        "        print(\"Error: Cannot divide by zero!\")\n",
        "else:\n",
        "    print(\"Invalid choice! Please select 1, 2, 3, or 4.\")\n",
        "\n"
      ]
    }
  ]
}